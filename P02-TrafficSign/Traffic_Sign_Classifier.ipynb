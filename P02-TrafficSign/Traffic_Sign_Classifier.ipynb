{
 "cells": [
  {
   "cell_type": "markdown",
   "metadata": {},
   "source": [
    "# Self-Driving Car Engineer Nanodegree\n",
    "\n",
    "## Deep Learning\n",
    "\n",
    "## Project: Build a Traffic Sign Recognition Classifier\n",
    "\n",
    "In this notebook, a template is provided for you to implement your functionality in stages, which is required to successfully complete this project. If additional code is required that cannot be included in the notebook, be sure that the Python code is successfully imported and included in your submission if necessary. \n",
    "\n",
    "> **Note**: Once you have completed all of the code implementations, you need to finalize your work by exporting the iPython Notebook as an HTML document. Before exporting the notebook to html, all of the code cells need to have been run so that reviewers can see the final implementation and output. You can then export the notebook by using the menu above and navigating to  \\n\",\n",
    "    \"**File -> Download as -> HTML (.html)**. Include the finished document along with this notebook as your submission. \n",
    "\n",
    "In addition to implementing code, there is a writeup to complete. The writeup should be completed in a separate file, which can be either a markdown file or a pdf document. There is a [write up template](https://github.com/udacity/CarND-Traffic-Sign-Classifier-Project/blob/master/writeup_template.md) that can be used to guide the writing process. Completing the code template and writeup template will cover all of the [rubric points](https://review.udacity.com/#!/rubrics/481/view) for this project.\n",
    "\n",
    "The [rubric](https://review.udacity.com/#!/rubrics/481/view) contains \"Stand Out Suggestions\" for enhancing the project beyond the minimum requirements. The stand out suggestions are optional. If you decide to pursue the \"stand out suggestions\", you can include the code in this Ipython notebook and also discuss the results in the writeup file.\n",
    "\n",
    "\n",
    ">**Note:** Code and Markdown cells can be executed using the **Shift + Enter** keyboard shortcut. In addition, Markdown cells can be edited by typically double-clicking the cell to enter edit mode."
   ]
  },
  {
   "cell_type": "markdown",
   "metadata": {},
   "source": [
    "---\n",
    "## Step 0: Load The Data"
   ]
  },
  {
   "cell_type": "code",
   "execution_count": 30,
   "metadata": {
    "collapsed": true
   },
   "outputs": [],
   "source": [
    "# Load pickled data\n",
    "import pickle\n",
    "\n",
    "# Fill this in based on where you saved the training |and testing data\n",
    "\n",
    "training_file = 'train.p'\n",
    "validation_file= 'valid.p'\n",
    "testing_file = 'test.p'\n",
    "\n",
    "with open(training_file, mode='rb') as f:\n",
    "    train = pickle.load(f)\n",
    "with open(validation_file, mode='rb') as f:\n",
    "    valid = pickle.load(f)\n",
    "with open(testing_file, mode='rb') as f:\n",
    "    test = pickle.load(f)\n",
    "    \n",
    "X_train, y_train = train['features'], train['labels']\n",
    "X_valid, y_valid = valid['features'], valid['labels']\n",
    "X_test, y_test = test['features'], test['labels']"
   ]
  },
  {
   "cell_type": "markdown",
   "metadata": {},
   "source": [
    "---\n",
    "\n",
    "## Step 1: Dataset Summary & Exploration\n",
    "\n",
    "The pickled data is a dictionary with 4 key/value pairs:\n",
    "\n",
    "- `'features'` is a 4D array containing raw pixel data of the traffic sign images, (num examples, width, height, channels).\n",
    "- `'labels'` is a 1D array containing the label/class id of the traffic sign. The file `signnames.csv` contains id -> name mappings for each id.\n",
    "- `'sizes'` is a list containing tuples, (width, height) representing the original width and height the image.\n",
    "- `'coords'` is a list containing tuples, (x1, y1, x2, y2) representing coordinates of a bounding box around the sign in the image. **THESE COORDINATES ASSUME THE ORIGINAL IMAGE. THE PICKLED DATA CONTAINS RESIZED VERSIONS (32 by 32) OF THESE IMAGES**\n",
    "\n",
    "Complete the basic data summary below. Use python, numpy and/or pandas methods to calculate the data summary rather than hard coding the results. For example, the [pandas shape method](http://pandas.pydata.org/pandas-docs/stable/generated/pandas.DataFrame.shape.html) might be useful for calculating some of the summary results. "
   ]
  },
  {
   "cell_type": "markdown",
   "metadata": {},
   "source": [
    "### Provide a Basic Summary of the Data Set Using Python, Numpy and/or Pandas"
   ]
  },
  {
   "cell_type": "code",
   "execution_count": 31,
   "metadata": {},
   "outputs": [
    {
     "name": "stdout",
     "output_type": "stream",
     "text": [
      "Number of training examples = 34799\n",
      "Number of testing examples = 12630\n",
      "Number of validation examples = 4410\n",
      "Image data shape = (32, 32, 3)\n",
      "Number of classes = 43\n"
     ]
    }
   ],
   "source": [
    "### Replace each question mark with the appropriate value. \n",
    "### Use python, pandas or numpy methods rather than hard coding the results\n",
    "import numpy as np\n",
    "\n",
    "assert(len(X_train)==len(y_train))\n",
    "assert(len(X_test)==len(y_test))\n",
    "assert(len(X_valid)==len(y_valid))\n",
    "\n",
    "# Number of training examples\n",
    "n_train = len(X_train)\n",
    "\n",
    "# Number of testing examples.\n",
    "n_test = len(X_test)\n",
    "\n",
    "# Number of validation examples\n",
    "n_valid = len(X_valid)\n",
    "\n",
    "# What's the shape of a traffic sign image?\n",
    "color_image_shape = (X_test.shape[1], X_test.shape[2], X_test.shape[3])\n",
    "\n",
    "# How many unique classes/labels there are in the dataset.\n",
    "n_classes = len(np.unique(y_train))\n",
    "\n",
    "print(\"Number of training examples =\", n_train)\n",
    "print(\"Number of testing examples =\", n_test)\n",
    "print(\"Number of validation examples =\", n_valid)\n",
    "print(\"Image data shape =\", color_image_shape)\n",
    "print(\"Number of classes =\", n_classes)"
   ]
  },
  {
   "cell_type": "markdown",
   "metadata": {},
   "source": [
    "### Include an exploratory visualization of the dataset"
   ]
  },
  {
   "cell_type": "markdown",
   "metadata": {},
   "source": [
    "Visualize the German Traffic Signs Dataset using the pickled file(s). This is open ended, suggestions include: plotting traffic sign images, plotting the count of each sign, etc. \n",
    "\n",
    "The [Matplotlib](http://matplotlib.org/) [examples](http://matplotlib.org/examples/index.html) and [gallery](http://matplotlib.org/gallery.html) pages are a great resource for doing visualizations in Python.\n",
    "\n",
    "**NOTE:** It's recommended you start with something simple first. If you wish to do more, come back to it after you've completed the rest of the sections. It can be interesting to look at the distribution of classes in the training, validation and test set. Is the distribution the same? Are there more examples of some classes than others?"
   ]
  },
  {
   "cell_type": "code",
   "execution_count": 34,
   "metadata": {},
   "outputs": [
    {
     "name": "stdout",
     "output_type": "stream",
     "text": [
      "The most occurring sign is type 2 and is shown below the histogram\n",
      "The occurrence of type 2 is 2010\n"
     ]
    },
    {
     "data": {
      "image/png": "[encoded data removed]",
      "text/plain": [
       "<matplotlib.figure.Figure at 0x7f55240c0f28>"
      ]
     },
     "metadata": {},
     "output_type": "display_data"
    },
    {
     "data": {
      "image/png": "[encoded data removed]",
      "text/plain": [
       "<matplotlib.figure.Figure at 0x7f55240d0518>"
      ]
     },
     "metadata": {},
     "output_type": "display_data"
    }
   ],
   "source": [
    "### Data exploration visualization code goes here.\n",
    "### Feel free to use as many code cells as needed.\n",
    "import matplotlib.pyplot as plt\n",
    "import numpy as np\n",
    "\n",
    "# Visualizations will be shown in the notebook.\n",
    "%matplotlib inline\n",
    "\n",
    "bar_width = 1. # set this to whatever you want\n",
    "positions = np.unique(y_train)\n",
    "class_count = np.bincount(y_train)\n",
    "data_distribution = plt.figure(figsize=(10,5))\n",
    "plt.bar(positions, class_count, width=.6)\n",
    "plt.xlabel('Traffic sign type')\n",
    "plt.ylabel('Traffic sign occurrence')\n",
    "data_distribution.savefig('data_distribution.png')\n",
    "\n",
    "most_frequent = np.argmax(class_count)\n",
    "most_frequent_idx = list(y_train).index(most_frequent)\n",
    "\n",
    "most_frequent_sign = plt.figure(figsize=(3,3))\n",
    "plt.imshow(X_train[most_frequent_idx])\n",
    "most_frequent_sign.savefig('most_frequent_sign.png')\n",
    "\n",
    "print('The most occurring sign is type %d and is shown below the histogram' % most_frequent)\n",
    "print('The occurrence of type %d is %d' % (most_frequent, class_count[most_frequent]))"
   ]
  },
  {
   "cell_type": "markdown",
   "metadata": {},
   "source": [
    "----\n",
    "\n",
    "## Step 2: Design and Test a Model Architecture\n",
    "\n",
    "Design and implement a deep learning model that learns to recognize traffic signs. Train and test your model on the [German Traffic Sign Dataset](http://benchmark.ini.rub.de/?section=gtsrb&subsection=dataset).\n",
    "\n",
    "The LeNet-5 implementation shown in the [classroom](https://classroom.udacity.com/nanodegrees/nd013/parts/fbf77062-5703-404e-b60c-95b78b2f3f9e/modules/6df7ae49-c61c-4bb2-a23e-6527e69209ec/lessons/601ae704-1035-4287-8b11-e2c2716217ad/concepts/d4aca031-508f-4e0b-b493-e7b706120f81) at the end of the CNN lesson is a solid starting point. You'll have to change the number of classes and possibly the preprocessing, but aside from that it's plug and play! \n",
    "\n",
    "With the LeNet-5 solution from the lecture, you should expect a validation set accuracy of about 0.89. To meet specifications, the validation set accuracy will need to be at least 0.93. It is possible to get an even higher accuracy, but 0.93 is the minimum for a successful project submission. \n",
    "\n",
    "There are various aspects to consider when thinking about this problem:\n",
    "\n",
    "- Neural network architecture (is the network over or underfitting?)\n",
    "- Play around preprocessing techniques (normalization, rgb to grayscale, etc)\n",
    "- Number of examples per label (some have more than others).\n",
    "- Generate fake data.\n",
    "\n",
    "Here is an example of a [published baseline model on this problem](http://yann.lecun.com/exdb/publis/pdf/sermanet-ijcnn-11.pdf). It's not required to be familiar with the approach used in the paper but, it's good practice to try to read papers like these."
   ]
  },
  {
   "cell_type": "markdown",
   "metadata": {},
   "source": [
    "### Pre-process the Data Set (normalization, grayscale, etc.)"
   ]
  },
  {
   "cell_type": "markdown",
   "metadata": {},
   "source": [
    "Minimally, the image data should be normalized so that the data has mean zero and equal variance. For image data, `(pixel - 128)/ 128` is a quick way to approximately normalize the data and can be used in this project. \n",
    "\n",
    "Other pre-processing steps are optional. You can try different techniques to see if it improves performance. \n",
    "\n",
    "Use the code cell (or multiple code cells, if necessary) to implement the first step of your project."
   ]
  },
  {
   "cell_type": "code",
   "execution_count": 35,
   "metadata": {
    "collapsed": true
   },
   "outputs": [],
   "source": [
    "### Preprocess the data here. It is required to normalize the data. Other preprocessing steps could include \n",
    "### converting to grayscale, etc."
   ]
  },
  {
   "cell_type": "code",
   "execution_count": 36,
   "metadata": {
    "collapsed": true
   },
   "outputs": [],
   "source": [
    "### normalize the data\n",
    "def normalize_image(image_data):\n",
    "    # scale grayscale image data\n",
    "    #min_value = image_data.min()\n",
    "    #max_value = image_data.max()\n",
    "    #a = .1\n",
    "    #b = .9\n",
    "    #denom = (b-a)/(max_value-min_value)\n",
    "    #returned_image = np.floor(a + (image_data-min_value)*denom)\n",
    "    #return returned_image\n",
    "    return image_data*.95/255 - .5"
   ]
  },
  {
   "cell_type": "code",
   "execution_count": 37,
   "metadata": {
    "collapsed": true
   },
   "outputs": [],
   "source": [
    "### convert to grayscale\n",
    "import cv2\n",
    "\n",
    "def grayscale(image_data):\n",
    "    return cv2.cvtColor(image_data, cv2.COLOR_RGB2GRAY)"
   ]
  },
  {
   "cell_type": "code",
   "execution_count": 40,
   "metadata": {},
   "outputs": [
    {
     "data": {
      "image/png": "[encoded data removed]",
      "text/plain": [
       "<matplotlib.figure.Figure at 0x7f55242a42e8>"
      ]
     },
     "metadata": {},
     "output_type": "display_data"
    }
   ],
   "source": [
    "# Preparing data set\n",
    "\n",
    "# convert to grayscale and normalize image values on training, validation and testing sets\n",
    "X_train_norm = np.array([normalize_image(grayscale(image)) for image in X_train])\n",
    "X_train_norm = X_train_norm.reshape(-1, 32, 32, 1)\n",
    "X_valid_norm = np.array([normalize_image(grayscale(image)) for image in X_valid])\n",
    "X_valid_norm = X_valid_norm.reshape(-1, 32, 32, 1)\n",
    "X_test_norm = np.array([normalize_image(grayscale(image)) for image in X_test])\n",
    "X_test_norm = X_test_norm.reshape(-1, 32, 32, 1)\n",
    "\n",
    "norm_image_shape = (X_train_norm.shape[1], X_train_norm.shape[2], X_train_norm.shape[3])\n",
    "\n",
    "image_test = X_train_norm[most_frequent_idx].squeeze()\n",
    "most_frequent_gray = plt.figure(figsize=(3,3))\n",
    "plt.imshow(image_test*255, cmap='gray')\n",
    "most_frequent_gray.savefig('most_frequent_gray.png')"
   ]
  },
  {
   "cell_type": "markdown",
   "metadata": {},
   "source": [
    "### Model Architecture"
   ]
  },
  {
   "cell_type": "code",
   "execution_count": 8,
   "metadata": {
    "collapsed": true
   },
   "outputs": [],
   "source": [
    "### Define your architecture here.\n",
    "### Feel free to use as many code cells as needed.\n",
    "\n",
    "from tensorflow.contrib.layers import flatten\n",
    "import tensorflow as tf\n",
    "\n",
    "keep_prob_tensor = tf.placeholder(tf.float32)\n",
    "\n",
    "def LeNet(x):\n",
    "    # Arguments used for tf.truncated_normal, randomly defines variables for the weights and biases for each layer\n",
    "    mu = 0\n",
    "    sigma = 0.1\n",
    "    \n",
    "    weights = \\\n",
    "        { 'w_cv1': tf.Variable(tf.truncated_normal(shape=[3,3,norm_image_shape[2],32], mean=mu, stddev=sigma, dtype=tf.float32)), \\\n",
    "          'w_cv2': tf.Variable(tf.truncated_normal(shape=[2,2,32,24], mean=mu, stddev=sigma, dtype=tf.float32)), \\\n",
    "          'w_cv3': tf.Variable(tf.truncated_normal(shape=[2,2,24,16], mean=mu, stddev=sigma, dtype=tf.float32)), \\\n",
    "          'w_fc1': tf.Variable(tf.truncated_normal(shape=[576,120], mean=mu, stddev=sigma, dtype=tf.float32)), \\\n",
    "          'w_fc2': tf.Variable(tf.truncated_normal(shape=[120,84], mean=mu, stddev=sigma, dtype=tf.float32)), \\\n",
    "          'w_out': tf.Variable(tf.truncated_normal(shape=[84,n_classes], mean=mu, stddev=sigma, dtype=tf.float32)) }\n",
    "#    biases = \\\n",
    "#        { 'b_cv1': tf.Variable(tf.zeros(6)), \\\n",
    "#          'b_cv2': tf.Variable(tf.zeros(16)), \\\n",
    "#          'b_fc1': tf.Variable(tf.zeros(120)), \\\n",
    "#          'b_fc2': tf.Variable(tf.zeros(84)), \\\n",
    "#          'b_out': tf.Variable(tf.zeros(n_classes)) }\n",
    "    biases = \\\n",
    "        { 'b_cv1': tf.Variable(tf.constant(.1, shape=[32])), \\\n",
    "          'b_cv2': tf.Variable(tf.constant(.1, shape=[24])), \\\n",
    "          'b_cv3': tf.Variable(tf.constant(.1, shape=[16])), \\\n",
    "          'b_fc1': tf.Variable(tf.constant(.1, shape=[120])), \\\n",
    "          'b_fc2': tf.Variable(tf.constant(.1, shape=[84])), \\\n",
    "          'b_out': tf.Variable(tf.constant(.1, shape=[n_classes])) }\n",
    "    \n",
    "    strides = \\\n",
    "        { 'st_cv1': [1, 1, 1, 1], \\\n",
    "          'st_cv2': [1, 1, 1, 1] }\n",
    "    \n",
    "    # Layer 1: Convolutional. Input = 32x32x1. Output = 30x30x32.\n",
    "    conv1 = tf.nn.conv2d(x, weights['w_cv1'], strides=[1, 1, 1, 1], padding='VALID') + biases['b_cv1']\n",
    "\n",
    "    # Activation.\n",
    "    conv1 = tf.nn.relu(conv1)\n",
    "\n",
    "    # Pooling. Input = 30x30x32. Output = 15x15x32.\n",
    "    conv1 = tf.nn.max_pool(conv1, ksize=[1, 2, 2, 1], strides=[1, 2, 2, 1], padding='VALID')\n",
    "\n",
    "    # Layer 2: Convolutional. Input = 15x15x32. Output = 14x14x24.\n",
    "    conv2 = tf.nn.conv2d(conv1, weights['w_cv2'], strides=[1, 1, 1, 1], padding='VALID') + biases['b_cv2']\n",
    "\n",
    "    # Activation.\n",
    "    conv2 = tf.nn.relu(conv2)\n",
    "\n",
    "    # Pooling. Input = 14x14x24. Output = 7x7x24.\n",
    "    conv2 = tf.nn.max_pool(conv2, ksize=[1, 2, 2, 1], strides=[1, 2, 2, 1], padding='VALID')\n",
    "\n",
    "    # Layer 2: Convolutional. Input = 7x7x24. Output = 6x6x16.\n",
    "    conv3 = tf.nn.conv2d(conv2, weights['w_cv3'], strides=[1, 1, 1, 1], padding='VALID') + biases['b_cv3']\n",
    "\n",
    "    # Activation.\n",
    "    conv3 = tf.nn.relu(conv3)\n",
    "    \n",
    "    # Dropout layer.\n",
    "    conv3 = tf.nn.dropout(conv3, keep_prob_tensor)\n",
    "\n",
    "    # Flatten. Input = 6x6x16. Output = 576.\n",
    "    fc0   = flatten(conv3)\n",
    "\n",
    "    # Layer 3: Fully Connected. Input = 576. Output = 120.\n",
    "    fc1   = tf.matmul(fc0, weights['w_fc1']) + biases['b_fc1']\n",
    "\n",
    "    # Activation.\n",
    "    fc1    = tf.nn.relu(fc1)\n",
    "\n",
    "    # Layer 4: Fully Connected. Input = 120. Output = 84.\n",
    "    fc2_W  = tf.Variable(tf.truncated_normal(shape=(120, 84), mean = mu, stddev = sigma))\n",
    "    fc2_b  = tf.Variable(tf.zeros(84))\n",
    "    fc2    = tf.matmul(fc1, weights['w_fc2']) + biases['b_fc2']\n",
    "\n",
    "    # Activation.\n",
    "    fc2    = tf.nn.relu(fc2)\n",
    "    \n",
    "    # Dropout layer.\n",
    "    fc2 = tf.nn.dropout(fc2, keep_prob_tensor)\n",
    "\n",
    "    # Layer 5: Fully Connected. Input = 84. Output = 10.\n",
    "    fc3_W  = tf.Variable(tf.truncated_normal(shape=(84, 10), mean = mu, stddev = sigma))\n",
    "    fc3_b  = tf.Variable(tf.zeros(10))\n",
    "    logits = tf.matmul(fc2, weights['w_out']) + biases['b_out']\n",
    "\n",
    "    return logits"
   ]
  },
  {
   "cell_type": "markdown",
   "metadata": {},
   "source": [
    "### Train, Validate and Test the Model"
   ]
  },
  {
   "cell_type": "markdown",
   "metadata": {},
   "source": [
    "A validation set can be used to assess how well the model is performing. A low accuracy on the training and validation\n",
    "sets imply underfitting. A high accuracy on the training set but low accuracy on the validation set implies overfitting."
   ]
  },
  {
   "cell_type": "code",
   "execution_count": 9,
   "metadata": {
    "collapsed": true
   },
   "outputs": [],
   "source": [
    "### Train your model here.\n",
    "### Calculate and report the accuracy on the training and validation set.\n",
    "### Once a final model architecture is selected, \n",
    "### the accuracy on the test set should be calculated and reported as well.\n",
    "### Feel free to use as many code cells as needed."
   ]
  },
  {
   "cell_type": "code",
   "execution_count": 10,
   "metadata": {
    "collapsed": true
   },
   "outputs": [],
   "source": [
    "import tensorflow as tf\n",
    "\n",
    "# Model hyperparameters\n",
    "learning_rate = .001\n",
    "batch_size = 256\n",
    "keep_prob_train = .6\n",
    "keep_prob_valid = 1\n",
    "\n",
    "# Tensorflow features and labels\n",
    "x = tf.placeholder(tf.float32, (None, norm_image_shape[0], norm_image_shape[1], norm_image_shape[2]))\n",
    "y = tf.placeholder(tf.int32, (None))\n",
    "\n",
    "# Cross entropy\n",
    "one_hot_y = tf.one_hot(y, n_classes)\n",
    "logits = LeNet(x)\n",
    "cross_entropy = tf.nn.softmax_cross_entropy_with_logits(labels=one_hot_y, logits=logits)\n",
    "loss_operation = tf.reduce_mean(cross_entropy)\n",
    "\n",
    "# Optimizer (Adam Optimizer)\n",
    "optimizer = tf.train.AdamOptimizer(learning_rate = learning_rate)\n",
    "training_operation = optimizer.minimize(loss_operation)\n",
    "\n",
    "# Accuracy\n",
    "correct_prediction = tf.equal(tf.argmax(logits, 1), tf.argmax(one_hot_y, 1))\n",
    "accuracy_operation = tf.reduce_mean(tf.cast(correct_prediction, tf.float32))\n",
    "\n",
    "\n",
    "# Saving training\n",
    "saver = tf.train.Saver()\n",
    "\n",
    "def evaluate(X_data, y_data, num_examples, keep_prob):\n",
    "    total_accuracy = 0\n",
    "    sess = tf.get_default_session()\n",
    "    for offset in range(0, num_examples, batch_size):\n",
    "        batch_x, batch_y = X_data[offset:offset+batch_size], y_data[offset:offset+batch_size]\n",
    "        accuracy, loss = sess.run((accuracy_operation, loss_operation), feed_dict={x: batch_x, y: batch_y, keep_prob_tensor: keep_prob})\n",
    "        total_accuracy += (accuracy * len(batch_x))\n",
    "    return (total_accuracy / num_examples, loss)"
   ]
  },
  {
   "cell_type": "code",
   "execution_count": 14,
   "metadata": {},
   "outputs": [
    {
     "name": "stdout",
     "output_type": "stream",
     "text": [
      "Initializing model\n",
      "Training...\n",
      "\n",
      "Epoch 1 ...\n",
      "Training Accuracy = 0.244\n",
      "Validation Accuracy = 0.303\n",
      "\n",
      "Epoch 2 ...\n",
      "Training Accuracy = 0.557\n",
      "Validation Accuracy = 0.663\n",
      "\n",
      "Epoch 3 ...\n",
      "Training Accuracy = 0.671\n",
      "Validation Accuracy = 0.759\n",
      "\n",
      "Epoch 4 ...\n",
      "Training Accuracy = 0.719\n",
      "Validation Accuracy = 0.790\n",
      "\n",
      "Epoch 5 ...\n",
      "Training Accuracy = 0.769\n",
      "Validation Accuracy = 0.824\n",
      "\n",
      "Epoch 6 ...\n",
      "Training Accuracy = 0.795\n",
      "Validation Accuracy = 0.847\n",
      "\n",
      "Epoch 7 ...\n",
      "Training Accuracy = 0.818\n",
      "Validation Accuracy = 0.868\n",
      "\n",
      "Epoch 8 ...\n",
      "Training Accuracy = 0.837\n",
      "Validation Accuracy = 0.872\n",
      "\n",
      "Epoch 9 ...\n",
      "Training Accuracy = 0.849\n",
      "Validation Accuracy = 0.891\n",
      "\n",
      "Epoch 10 ...\n",
      "Training Accuracy = 0.861\n",
      "Validation Accuracy = 0.905\n",
      "\n",
      "Epoch 11 ...\n",
      "Training Accuracy = 0.868\n",
      "Validation Accuracy = 0.900\n",
      "\n",
      "Epoch 12 ...\n",
      "Training Accuracy = 0.871\n",
      "Validation Accuracy = 0.901\n",
      "\n",
      "Epoch 13 ...\n",
      "Training Accuracy = 0.885\n",
      "Validation Accuracy = 0.912\n",
      "\n",
      "Epoch 14 ...\n",
      "Training Accuracy = 0.890\n",
      "Validation Accuracy = 0.925\n",
      "\n",
      "Epoch 15 ...\n",
      "Training Accuracy = 0.888\n",
      "Validation Accuracy = 0.900\n",
      "\n",
      "Epoch 16 ...\n",
      "Training Accuracy = 0.904\n",
      "Validation Accuracy = 0.924\n",
      "\n",
      "Epoch 17 ...\n",
      "Training Accuracy = 0.907\n",
      "Validation Accuracy = 0.923\n",
      "\n",
      "Epoch 18 ...\n",
      "Training Accuracy = 0.912\n",
      "Validation Accuracy = 0.929\n",
      "\n",
      "Epoch 19 ...\n",
      "Training Accuracy = 0.910\n",
      "Validation Accuracy = 0.916\n",
      "\n",
      "Epoch 20 ...\n",
      "Training Accuracy = 0.926\n",
      "Validation Accuracy = 0.927\n",
      "\n",
      "Epoch 21 ...\n",
      "Training Accuracy = 0.920\n",
      "Validation Accuracy = 0.929\n",
      "\n",
      "Epoch 22 ...\n",
      "Training Accuracy = 0.922\n",
      "Validation Accuracy = 0.919\n",
      "\n",
      "Epoch 23 ...\n",
      "Training Accuracy = 0.930\n",
      "Validation Accuracy = 0.936\n",
      "\n",
      "Epoch 24 ...\n",
      "Training Accuracy = 0.931\n",
      "Validation Accuracy = 0.931\n",
      "\n",
      "Epoch 25 ...\n",
      "Training Accuracy = 0.935\n",
      "Validation Accuracy = 0.934\n",
      "\n",
      "Epoch 26 ...\n",
      "Training Accuracy = 0.939\n",
      "Validation Accuracy = 0.937\n",
      "\n",
      "Epoch 27 ...\n",
      "Training Accuracy = 0.941\n",
      "Validation Accuracy = 0.935\n",
      "\n",
      "Epoch 28 ...\n",
      "Training Accuracy = 0.940\n",
      "Validation Accuracy = 0.928\n",
      "\n",
      "Epoch 29 ...\n",
      "Training Accuracy = 0.946\n",
      "Validation Accuracy = 0.940\n",
      "\n",
      "Epoch 30 ...\n",
      "Training Accuracy = 0.946\n",
      "Validation Accuracy = 0.944\n",
      "\n",
      "Model saved\n"
     ]
    },
    {
     "data": {
      "image/png": "[encoded data removed]",
      "text/plain": [
       "<matplotlib.figure.Figure at 0x7f552421a208>"
      ]
     },
     "metadata": {},
     "output_type": "display_data"
    }
   ],
   "source": [
    "# Tensorflow training session\n",
    "\n",
    "from sklearn.utils import shuffle\n",
    "import tensorflow as tf\n",
    "import os.path\n",
    "\n",
    "# Loss history\n",
    "training_loss_history = []\n",
    "validation_loss_history = []\n",
    "\n",
    "# Epochs\n",
    "epochs = 30\n",
    "\n",
    "with tf.Session() as sess:\n",
    "    if os.path.isfile('./lenet.meta'):\n",
    "        saver.restore(sess, \"./lenet\")\n",
    "        print(\"Model restored\")\n",
    "    else:\n",
    "        sess.run(tf.global_variables_initializer())\n",
    "        print(\"Initializing model\")\n",
    "    \n",
    "    print(\"Training...\")\n",
    "    print()\n",
    "    for i in range(epochs):\n",
    "        X_train_norm, y_train = shuffle(X_train_norm, y_train)\n",
    "        for offset in range(0, n_train, batch_size):\n",
    "            end = offset + batch_size\n",
    "            batch_x, batch_y = X_train_norm[offset:end], y_train[offset:end]\n",
    "            sess.run(training_operation, feed_dict={x: batch_x, y: batch_y, keep_prob_tensor: keep_prob_train})\n",
    "            \n",
    "        training_accuracy, training_loss = evaluate(X_train_norm, y_train, n_train, keep_prob_train)\n",
    "        validation_accuracy, validation_loss = evaluate(X_valid_norm, y_valid, n_valid, keep_prob_valid)\n",
    "        training_loss_history.append(training_loss)\n",
    "        validation_loss_history.append(validation_loss)\n",
    "        print(\"Epoch {} ...\".format(i+1))\n",
    "        print(\"Training Accuracy = {:.3f}\".format(training_accuracy))\n",
    "        print(\"Validation Accuracy = {:.3f}\".format(validation_accuracy))\n",
    "        print()\n",
    "        \n",
    "    saver.save(sess, './lenet')\n",
    "    print(\"Model saved\")\n",
    "    \n",
    "loss_plot = plt.figure(figsize=(10,5))\n",
    "trloss_plot = plt.plot(list(range(1,epochs+1)), training_loss_history, label='training loss')\n",
    "valoss_plot = plt.plot(list(range(1,epochs+1)), validation_loss_history, label='validation loss')\n",
    "plt.legend()\n",
    "plt.xlabel('Epochs')\n",
    "plt.ylabel('Loss')\n",
    "\n",
    "loss_plot.savefig('loss_plot.png')"
   ]
  },
  {
   "cell_type": "code",
   "execution_count": 16,
   "metadata": {},
   "outputs": [
    {
     "name": "stdout",
     "output_type": "stream",
     "text": [
      "Model restored\n",
      "Testing Accuracy = 0.944\n",
      "\n"
     ]
    }
   ],
   "source": [
    "# Tensorflow test\n",
    "import os.path\n",
    "import tensorflow as tf\n",
    "\n",
    "with tf.Session() as sess:\n",
    "    if os.path.isfile('./lenet.meta'):\n",
    "        saver.restore(sess, \"./lenet\")\n",
    "        print(\"Model restored\")\n",
    "        testing_accuracy, testing_loss = evaluate(X_valid_norm, y_valid, n_valid, keep_prob_valid)\n",
    "        print(\"Testing Accuracy = {:.3f}\".format(testing_accuracy))\n",
    "        print()\n",
    "    else:\n",
    "        print(\"Model missing\")"
   ]
  },
  {
   "cell_type": "markdown",
   "metadata": {},
   "source": [
    "---\n",
    "\n",
    "## Step 3: Test a Model on New Images\n",
    "\n",
    "To give yourself more insight into how your model is working, download at least five pictures of German traffic signs from the web and use your model to predict the traffic sign type.\n",
    "\n",
    "You may find `signnames.csv` useful as it contains mappings from the class id (integer) to the actual sign name."
   ]
  },
  {
   "cell_type": "markdown",
   "metadata": {},
   "source": [
    "### Load and Output the Images"
   ]
  },
  {
   "cell_type": "code",
   "execution_count": 17,
   "metadata": {
    "collapsed": true
   },
   "outputs": [],
   "source": [
    "### Load the images and plot them here.\n",
    "### Feel free to use as many code cells as needed."
   ]
  },
  {
   "cell_type": "code",
   "execution_count": 18,
   "metadata": {},
   "outputs": [
    {
     "data": {
      "image/png": "[encoded data removed]",
      "text/plain": [
       "<matplotlib.figure.Figure at 0x7f5524060668>"
      ]
     },
     "metadata": {},
     "output_type": "display_data"
    },
    {
     "data": {
      "image/png": "[encoded data removed]",
      "text/plain": [
       "<matplotlib.figure.Figure at 0x7f551f6d3fd0>"
      ]
     },
     "metadata": {},
     "output_type": "display_data"
    },
    {
     "data": {
      "image/png": "[encoded data removed]",
      "text/plain": [
       "<matplotlib.figure.Figure at 0x7f552402b978>"
      ]
     },
     "metadata": {},
     "output_type": "display_data"
    },
    {
     "data": {
      "image/png": "[encoded data removed]",
      "text/plain": [
       "<matplotlib.figure.Figure at 0x7f551f781e48>"
      ]
     },
     "metadata": {},
     "output_type": "display_data"
    },
    {
     "data": {
      "image/png": "[encoded data removed]",
      "text/plain": [
       "<matplotlib.figure.Figure at 0x7f552409e8d0>"
      ]
     },
     "metadata": {},
     "output_type": "display_data"
    }
   ],
   "source": [
    "import matplotlib.image as mpimg\n",
    "import os\n",
    "import re\n",
    "\n",
    "X_online_test = []\n",
    "image_filenames = [ 'online_signs/01_roadwork_25.jpg', \\\n",
    "                    'online_signs/02_no-entry_17.jpg', \\\n",
    "                    'online_signs/03_bumpy-road_22.jpg', \\\n",
    "                    'online_signs/04_yield_11.jpg', \\\n",
    "                    'online_signs/05_speed-limit-30_01.jpg' ]\n",
    "\n",
    "for file in image_filenames:\n",
    "    # load image file\n",
    "    image = mpimg.imread(file)\n",
    "    X_online_test.append(image)\n",
    "    plt.figure(figsize=(3,3))\n",
    "    plt.imshow(image)\n",
    "    \n",
    "X_online_test = np.array(X_online_test)\n",
    "y_online_test = np.array([25, 17, 22, 11, 1])\n",
    "\n",
    "X_online_test_norm = np.array([normalize_image(grayscale(image)) for image in X_online_test])\n",
    "X_online_test_norm = X_online_test_norm.reshape(-1, 32, 32, 1)"
   ]
  },
  {
   "cell_type": "markdown",
   "metadata": {},
   "source": [
    "### Predict the Sign Type for Each Image"
   ]
  },
  {
   "cell_type": "code",
   "execution_count": 19,
   "metadata": {
    "collapsed": true
   },
   "outputs": [],
   "source": [
    "### Run the predictions here and use the model to output the prediction for each image.\n",
    "### Make sure to pre-process the images with the same pre-processing pipeline used earlier.\n",
    "### Feel free to use as many code cells as needed."
   ]
  },
  {
   "cell_type": "code",
   "execution_count": 20,
   "metadata": {
    "scrolled": true
   },
   "outputs": [
    {
     "name": "stdout",
     "output_type": "stream",
     "text": [
      "Model restored\n",
      "\n"
     ]
    }
   ],
   "source": [
    "# Run model on 5 images found online\n",
    "import tensorflow as tf\n",
    "\n",
    "with tf.Session() as sess:\n",
    "    if os.path.isfile('./lenet.meta'):\n",
    "        saver.restore(sess, \"./lenet\")\n",
    "        print(\"Model restored\")\n",
    "        test_logits = sess.run(logits, feed_dict={x: X_online_test_norm, y: y_online_test, keep_prob_tensor: 1})\n",
    "        print()\n",
    "    else:\n",
    "        print(\"Model missing\")"
   ]
  },
  {
   "cell_type": "code",
   "execution_count": 21,
   "metadata": {},
   "outputs": [
    {
     "name": "stdout",
     "output_type": "stream",
     "text": [
      "The sign id for image online_signs/01_roadwork_25.jpg is 25\n",
      "The sign id for image online_signs/02_no-entry_17.jpg is 17\n",
      "The sign id for image online_signs/03_bumpy-road_22.jpg is 22\n",
      "The sign id for image online_signs/04_yield_11.jpg is 11\n",
      "The sign id for image online_signs/05_speed-limit-30_01.jpg is 1\n"
     ]
    }
   ],
   "source": [
    "# Find max probabilities to determine class for each of the 5 images\n",
    "\n",
    "classification_test = np.argmax(test_logits, axis=1)\n",
    "\n",
    "for filename, classId in zip(image_filenames, classification_test):\n",
    "    print(\"The sign id for image %s is %d\" % (filename, classId))"
   ]
  },
  {
   "cell_type": "markdown",
   "metadata": {},
   "source": [
    "### Analyze Performance"
   ]
  },
  {
   "cell_type": "code",
   "execution_count": 22,
   "metadata": {
    "collapsed": true
   },
   "outputs": [],
   "source": [
    "### Calculate the accuracy for these 5 new images. \n",
    "### For example, if the model predicted 1 out of 5 signs correctly, it's 20% accurate on these new images."
   ]
  },
  {
   "cell_type": "code",
   "execution_count": 23,
   "metadata": {},
   "outputs": [
    {
     "name": "stdout",
     "output_type": "stream",
     "text": [
      "Model restored\n",
      "Online testing Accuracy = 1.000\n",
      "\n"
     ]
    }
   ],
   "source": [
    "# Determine model accuracy\n",
    "import tensorflow as tf\n",
    "\n",
    "with tf.Session() as sess:\n",
    "    if os.path.isfile('./lenet.meta'):\n",
    "        saver.restore(sess, \"./lenet\")\n",
    "        print(\"Model restored\")\n",
    "        online_testing_accuracy, online_testing_loss = evaluate(X_online_test_norm, y_online_test, X_online_test.shape[0], keep_prob_valid)\n",
    "        print(\"Online testing Accuracy = {:.3f}\".format(online_testing_accuracy))\n",
    "        print()\n",
    "    else:\n",
    "        print(\"Model missing\")"
   ]
  },
  {
   "cell_type": "markdown",
   "metadata": {},
   "source": [
    "### Output Top 5 Softmax Probabilities For Each Image Found on the Web"
   ]
  },
  {
   "cell_type": "markdown",
   "metadata": {},
   "source": [
    "For each of the new images, print out the model's softmax probabilities to show the **certainty** of the model's predictions (limit the output to the top 5 probabilities for each image). [`tf.nn.top_k`](https://www.tensorflow.org/versions/r0.12/api_docs/python/nn.html#top_k) could prove helpful here. \n",
    "\n",
    "The example below demonstrates how tf.nn.top_k can be used to find the top k predictions for each image.\n",
    "\n",
    "`tf.nn.top_k` will return the values and indices (class ids) of the top k predictions. So if k=3, for each sign, it'll return the 3 largest probabilities (out of a possible 43) and the correspoding class ids.\n",
    "\n",
    "Take this numpy array as an example. The values in the array represent predictions. The array contains softmax probabilities for five candidate images with six possible classes. `tk.nn.top_k` is used to choose the three classes with the highest probability:\n",
    "\n",
    "```\n",
    "# (5, 6) array\n",
    "a = np.array([[ 0.24879643,  0.07032244,  0.12641572,  0.34763842,  0.07893497,\n",
    "         0.12789202],\n",
    "       [ 0.28086119,  0.27569815,  0.08594638,  0.0178669 ,  0.18063401,\n",
    "         0.15899337],\n",
    "       [ 0.26076848,  0.23664738,  0.08020603,  0.07001922,  0.1134371 ,\n",
    "         0.23892179],\n",
    "       [ 0.11943333,  0.29198961,  0.02605103,  0.26234032,  0.1351348 ,\n",
    "         0.16505091],\n",
    "       [ 0.09561176,  0.34396535,  0.0643941 ,  0.16240774,  0.24206137,\n",
    "         0.09155967]])\n",
    "```\n",
    "\n",
    "Running it through `sess.run(tf.nn.top_k(tf.constant(a), k=3))` produces:\n",
    "\n",
    "```\n",
    "TopKV2(values=array([[ 0.34763842,  0.24879643,  0.12789202],\n",
    "       [ 0.28086119,  0.27569815,  0.18063401],\n",
    "       [ 0.26076848,  0.23892179,  0.23664738],\n",
    "       [ 0.29198961,  0.26234032,  0.16505091],\n",
    "       [ 0.34396535,  0.24206137,  0.16240774]]), indices=array([[3, 0, 5],\n",
    "       [0, 1, 4],\n",
    "       [0, 5, 1],\n",
    "       [1, 3, 5],\n",
    "       [1, 4, 3]], dtype=int32))\n",
    "```\n",
    "\n",
    "Looking just at the first row we get `[ 0.34763842,  0.24879643,  0.12789202]`, you can confirm these are the 3 largest probabilities in `a`. You'll also notice `[3, 0, 5]` are the corresponding indices."
   ]
  },
  {
   "cell_type": "code",
   "execution_count": 24,
   "metadata": {
    "collapsed": true
   },
   "outputs": [],
   "source": [
    "### Print out the top five softmax probabilities for the predictions on the German traffic sign images found on the web. \n",
    "### Feel free to use as many code cells as needed."
   ]
  },
  {
   "cell_type": "code",
   "execution_count": 25,
   "metadata": {},
   "outputs": [
    {
     "name": "stdout",
     "output_type": "stream",
     "text": [
      "TopKV2(values=array([[ 18.59210396,   9.96964359,   6.48878717,   4.46604013,\n",
      "          3.08514738],\n",
      "       [ 24.83653069,   2.77335882,   1.15448081,   0.87028474,\n",
      "          0.12301927],\n",
      "       [ 13.97424793,   5.2931757 ,   4.05145741,   2.20819259,\n",
      "          1.55094314],\n",
      "       [ 33.45376205,  22.38051796,  11.29372406,   7.50246191,\n",
      "          6.51659203],\n",
      "       [ 18.29144669,   5.33599424,   4.30195999,   3.08325934,\n",
      "         -0.21966304]], dtype=float32), indices=array([[25, 20, 30, 34, 38],\n",
      "       [17, 38, 34, 32, 14],\n",
      "       [22, 34, 14, 29, 38],\n",
      "       [11, 30, 23, 20, 28],\n",
      "       [ 1,  2,  3, 11, 12]], dtype=int32))\n"
     ]
    }
   ],
   "source": [
    "import tensorflow as tf\n",
    "\n",
    "with tf.Session() as sess:\n",
    "    topKV2 = sess.run(tf.nn.top_k(tf.constant(test_logits), k=5))\n",
    "    print(topKV2)"
   ]
  },
  {
   "cell_type": "markdown",
   "metadata": {},
   "source": [
    "### Project Writeup\n",
    "\n",
    "Once you have completed the code implementation, document your results in a project writeup using this [template](https://github.com/udacity/CarND-Traffic-Sign-Classifier-Project/blob/master/writeup_template.md) as a guide. The writeup can be in a markdown or pdf file. "
   ]
  },
  {
   "cell_type": "markdown",
   "metadata": {},
   "source": [
    "> **Note**: Once you have completed all of the code implementations and successfully answered each question above, you may finalize your work by exporting the iPython Notebook as an HTML document. You can do this by using the menu above and navigating to  \\n\",\n",
    "    \"**File -> Download as -> HTML (.html)**. Include the finished document along with this notebook as your submission."
   ]
  },
  {
   "cell_type": "markdown",
   "metadata": {},
   "source": [
    "---\n",
    "\n",
    "## Step 4 (Optional): Visualize the Neural Network's State with Test Images\n",
    "\n",
    " This Section is not required to complete but acts as an additional excersise for understaning the output of a neural network's weights. While neural networks can be a great learning device they are often referred to as a black box. We can understand what the weights of a neural network look like better by plotting their feature maps. After successfully training your neural network you can see what it's feature maps look like by plotting the output of the network's weight layers in response to a test stimuli image. From these plotted feature maps, it's possible to see what characteristics of an image the network finds interesting. For a sign, maybe the inner network feature maps react with high activation to the sign's boundary outline or to the contrast in the sign's painted symbol.\n",
    "\n",
    " Provided for you below is the function code that allows you to get the visualization output of any tensorflow weight layer you want. The inputs to the function should be a stimuli image, one used during training or a new one you provided, and then the tensorflow variable name that represents the layer's state during the training process, for instance if you wanted to see what the [LeNet lab's](https://classroom.udacity.com/nanodegrees/nd013/parts/fbf77062-5703-404e-b60c-95b78b2f3f9e/modules/6df7ae49-c61c-4bb2-a23e-6527e69209ec/lessons/601ae704-1035-4287-8b11-e2c2716217ad/concepts/d4aca031-508f-4e0b-b493-e7b706120f81) feature maps looked like for it's second convolutional layer you could enter conv2 as the tf_activation variable.\n",
    "\n",
    "For an example of what feature map outputs look like, check out NVIDIA's results in their paper [End-to-End Deep Learning for Self-Driving Cars](https://devblogs.nvidia.com/parallelforall/deep-learning-self-driving-cars/) in the section Visualization of internal CNN State. NVIDIA was able to show that their network's inner weights had high activations to road boundary lines by comparing feature maps from an image with a clear path to one without. Try experimenting with a similar test to show that your trained network's weights are looking for interesting features, whether it's looking at differences in feature maps from images with or without a sign, or even what feature maps look like in a trained network vs a completely untrained one on the same sign image.\n",
    "\n",
    "<figure>\n",
    " <img src=\"visualize_cnn.png\" width=\"380\" alt=\"Combined Image\" />\n",
    " <figcaption>\n",
    " <p></p> \n",
    " <p style=\"text-align: center;\"> Your output should look something like this (above)</p> \n",
    " </figcaption>\n",
    "</figure>\n",
    " <p></p> \n"
   ]
  },
  {
   "cell_type": "code",
   "execution_count": null,
   "metadata": {
    "collapsed": true
   },
   "outputs": [],
   "source": [
    "### Visualize your network's feature maps here.\n",
    "### Feel free to use as many code cells as needed.\n",
    "\n",
    "# image_input: the test image being fed into the network to produce the feature maps\n",
    "# tf_activation: should be a tf variable name used during your training procedure that represents the calculated state of a specific weight layer\n",
    "# activation_min/max: can be used to view the activation contrast in more detail, by default matplot sets min and max to the actual min and max values of the output\n",
    "# plt_num: used to plot out multiple different weight feature map sets on the same block, just extend the plt number for each new feature map entry\n",
    "\n",
    "def outputFeatureMap(image_input, tf_activation, activation_min=-1, activation_max=-1 ,plt_num=1):\n",
    "    # Here make sure to preprocess your image_input in a way your network expects\n",
    "    # with size, normalization, ect if needed\n",
    "    # image_input =\n",
    "    # Note: x should be the same name as your network's tensorflow data placeholder variable\n",
    "    # If you get an error tf_activation is not defined it may be having trouble accessing the variable from inside a function\n",
    "    activation = tf_activation.eval(session=sess,feed_dict={x : image_input})\n",
    "    featuremaps = activation.shape[3]\n",
    "    plt.figure(plt_num, figsize=(15,15))\n",
    "    for featuremap in range(featuremaps):\n",
    "        plt.subplot(6,8, featuremap+1) # sets the number of feature maps to show on each row and column\n",
    "        plt.title('FeatureMap ' + str(featuremap)) # displays the feature map number\n",
    "        if activation_min != -1 & activation_max != -1:\n",
    "            plt.imshow(activation[0,:,:, featuremap], interpolation=\"nearest\", vmin =activation_min, vmax=activation_max, cmap=\"gray\")\n",
    "        elif activation_max != -1:\n",
    "            plt.imshow(activation[0,:,:, featuremap], interpolation=\"nearest\", vmax=activation_max, cmap=\"gray\")\n",
    "        elif activation_min !=-1:\n",
    "            plt.imshow(activation[0,:,:, featuremap], interpolation=\"nearest\", vmin=activation_min, cmap=\"gray\")\n",
    "        else:\n",
    "            plt.imshow(activation[0,:,:, featuremap], interpolation=\"nearest\", cmap=\"gray\")"
   ]
  }
 ],
 "metadata": {
  "anaconda-cloud": {},
  "kernelspec": {
   "display_name": "Python 3",
   "language": "python",
   "name": "python3"
  },
  "language_info": {
   "codemirror_mode": {
    "name": "ipython",
    "version": 3
   },
   "file_extension": ".py",
   "mimetype": "text/x-python",
   "name": "python",
   "nbconvert_exporter": "python",
   "pygments_lexer": "ipython3",
   "version": "3.5.2"
  },
  "widgets": {
   "state": {},
   "version": "1.1.2"
  }
 },
 "nbformat": 4,
 "nbformat_minor": 1
}
